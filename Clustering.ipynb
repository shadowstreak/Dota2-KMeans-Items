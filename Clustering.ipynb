{
 "cells": [
  {
   "cell_type": "code",
   "execution_count": null,
   "metadata": {},
   "outputs": [],
   "source": [
    "'''\n",
    "Clusters the final data\n",
    "'''"
   ]
  },
  {
   "cell_type": "code",
   "execution_count": 1,
   "metadata": {},
   "outputs": [
    {
     "data": {
      "text/plain": [
       "(94, 178)"
      ]
     },
     "execution_count": 1,
     "metadata": {},
     "output_type": "execute_result"
    }
   ],
   "source": [
    "import pandas as pd\n",
    "from sklearn.cluster import KMeans\n",
    "\n",
    "df = pd.read_csv('player_stats_normalized.csv')\n",
    "df.shape"
   ]
  },
  {
   "cell_type": "code",
   "execution_count": 2,
   "metadata": {},
   "outputs": [],
   "source": [
    "X_scaled = df.iloc[:, 3:] #exclude player_id, name, team_id\n",
    "#from sklearn import preprocessing # normalize measures when you use Euclidean distance\n",
    "#X_scaled = preprocessing.scale(X)"
   ]
  },
  {
   "cell_type": "code",
   "execution_count": 3,
   "metadata": {},
   "outputs": [
    {
     "name": "stdout",
     "output_type": "stream",
     "text": [
      "{1: -649.9605405507281, 2: -533.5297690603127, 3: -477.9146970765813, 4: -444.69313206960453, 5: -423.051755679129, 6: -402.30304266190245, 7: -393.20512084029474, 8: -382.69603173351396, 9: -371.1416890920206, 10: -364.5752450498206, 11: -359.247675736333, 12: -354.06436967386384, 13: -347.1280271127211, 14: -336.82424743135067}\n"
     ]
    }
   ],
   "source": [
    "performance_map = {}\n",
    "for i in range(1, 15):\n",
    "    kmeans = KMeans(n_clusters=i, random_state=0).fit(X_scaled)\n",
    "    performance_map[i] = kmeans.score(X_scaled)\n",
    "print(performance_map)"
   ]
  },
  {
   "cell_type": "code",
   "execution_count": 4,
   "metadata": {},
   "outputs": [
    {
     "name": "stdout",
     "output_type": "stream",
     "text": [
      "dict_keys([1, 2, 3, 4, 5, 6, 7, 8, 9, 10, 11, 12, 13, 14])\n"
     ]
    }
   ],
   "source": [
    "print(performance_map.keys())"
   ]
  },
  {
   "cell_type": "code",
   "execution_count": 5,
   "metadata": {},
   "outputs": [
    {
     "data": {
      "text/plain": [
       "<Figure size 640x480 with 1 Axes>"
      ]
     },
     "metadata": {},
     "output_type": "display_data"
    }
   ],
   "source": [
    "import matplotlib.pyplot as plt # use the elbow method to determine number of clusters\n",
    "plt.scatter(performance_map.keys(),performance_map.values())\n",
    "plt.plot(performance_map.keys(),performance_map.values())\n",
    "plt.show()"
   ]
  },
  {
   "cell_type": "code",
   "execution_count": 6,
   "metadata": {},
   "outputs": [
    {
     "data": {
      "text/plain": [
       "array([3, 1, 1, 2, 0, 3, 4, 0, 1, 2, 4, 0, 2, 1, 3, 4, 2, 1, 0, 2, 4, 1,\n",
       "       3, 0, 0, 4, 5, 3, 1, 3, 0, 1, 5, 5, 2, 4, 0, 3, 1, 1, 0, 4, 2, 2,\n",
       "       1, 3, 4, 1, 3, 0, 2, 5, 5, 5, 5, 0, 3, 2, 1, 5, 5, 5, 5, 0, 1, 4,\n",
       "       2, 3, 4, 3, 2, 0, 5, 2, 3, 5, 1, 1, 3, 5, 2, 5, 5, 2, 0, 1, 2, 1,\n",
       "       5, 5, 4, 1, 5, 3])"
      ]
     },
     "execution_count": 6,
     "metadata": {},
     "output_type": "execute_result"
    }
   ],
   "source": [
    "'''\n",
    "8 looks to be the best, so I will go with that.\n",
    "'''\n",
    "kmeans = KMeans(n_clusters=6, random_state=0).fit(X_scaled)\n",
    "kmeans.labels_"
   ]
  },
  {
   "cell_type": "code",
   "execution_count": 7,
   "metadata": {},
   "outputs": [
    {
     "data": {
      "text/plain": [
       "array([[0.23487544, 0.59539474, 0.        , ..., 0.0952381 , 0.15957503,\n",
       "        0.23438998],\n",
       "       [0.08934257, 0.59660665, 0.        , ..., 0.0877193 , 0.47671528,\n",
       "        0.0361987 ],\n",
       "       [0.05204626, 0.14226974, 0.        , ..., 0.        , 0.85009319,\n",
       "        0.00813494],\n",
       "       [0.38386714, 0.1122807 , 0.03333333, ..., 0.        , 0.09057389,\n",
       "        0.64158234],\n",
       "       [0.0682627 , 0.4784689 , 0.09090909, ..., 0.        , 0.7184218 ,\n",
       "        0.03080848],\n",
       "       [0.06312043, 0.19979224, 0.        , ..., 0.        , 0.44214224,\n",
       "        0.15909209]])"
      ]
     },
     "execution_count": 7,
     "metadata": {},
     "output_type": "execute_result"
    }
   ],
   "source": [
    "kmeans.cluster_centers_"
   ]
  },
  {
   "cell_type": "code",
   "execution_count": 8,
   "metadata": {},
   "outputs": [
    {
     "data": {
      "text/plain": [
       "402.3030426619025"
      ]
     },
     "execution_count": 8,
     "metadata": {},
     "output_type": "execute_result"
    }
   ],
   "source": [
    "kmeans.inertia_"
   ]
  },
  {
   "cell_type": "code",
   "execution_count": 9,
   "metadata": {},
   "outputs": [],
   "source": [
    "df[\"label\"] = kmeans.labels_\n",
    "df.to_excel(\"output.xlsx\")"
   ]
  }
 ],
 "metadata": {
  "kernelspec": {
   "display_name": "Python 3",
   "language": "python",
   "name": "python3"
  },
  "language_info": {
   "codemirror_mode": {
    "name": "ipython",
    "version": 3
   },
   "file_extension": ".py",
   "mimetype": "text/x-python",
   "name": "python",
   "nbconvert_exporter": "python",
   "pygments_lexer": "ipython3",
   "version": "3.6.5"
  }
 },
 "nbformat": 4,
 "nbformat_minor": 2
}

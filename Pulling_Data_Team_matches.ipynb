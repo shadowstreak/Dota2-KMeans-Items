{
 "cells": [
  {
   "cell_type": "code",
   "execution_count": 1,
   "metadata": {},
   "outputs": [
    {
     "data": {
      "text/plain": [
       "\"\\nCode written by Allen Lauer\\nGoal of this is to pull team matches from the OpenDota database.\\n\\nI manually found the top 20 teams and got their ID's from this page:\\nhttps://api.opendota.com/api/teams\\n\\nThis is the second code to run, gets the last 200 or so matches for each team from the database\\n\\nthen I am now querying each team ID and getting their matches.\\nThe other file player_data_base gen will assemble the players into the table.\\n\""
      ]
     },
     "execution_count": 1,
     "metadata": {},
     "output_type": "execute_result"
    }
   ],
   "source": [
    "'''\n",
    "Code written by Allen Lauer\n",
    "Goal of this is to pull team matches from the OpenDota database.\n",
    "\n",
    "This is the 3rd script\n",
    "\n",
    "I manually found the top 20 teams and got their ID's from this page:\n",
    "https://api.opendota.com/api/teams\n",
    "\n",
    "This is the code to run after player_database_gen, gets the last 200 or so matches for each team from the database\n",
    "\n",
    "then I am now querying each team ID and getting their matches.\n",
    "The other file player_data_base gen will assemble the players into the table.\n",
    "'''"
   ]
  },
  {
   "cell_type": "code",
   "execution_count": 2,
   "metadata": {},
   "outputs": [
    {
     "data": {
      "text/plain": [
       "(21, 2)"
      ]
     },
     "execution_count": 2,
     "metadata": {},
     "output_type": "execute_result"
    }
   ],
   "source": [
    "import pandas as pd\n",
    "import requests\n",
    "import json\n",
    "df = pd.read_csv('active_teams.csv')\n",
    "df.shape"
   ]
  },
  {
   "cell_type": "code",
   "execution_count": 3,
   "metadata": {},
   "outputs": [
    {
     "data": {
      "text/html": [
       "<div>\n",
       "<style scoped>\n",
       "    .dataframe tbody tr th:only-of-type {\n",
       "        vertical-align: middle;\n",
       "    }\n",
       "\n",
       "    .dataframe tbody tr th {\n",
       "        vertical-align: top;\n",
       "    }\n",
       "\n",
       "    .dataframe thead th {\n",
       "        text-align: right;\n",
       "    }\n",
       "</style>\n",
       "<table border=\"1\" class=\"dataframe\">\n",
       "  <thead>\n",
       "    <tr style=\"text-align: right;\">\n",
       "      <th></th>\n",
       "      <th>team</th>\n",
       "      <th>ID</th>\n",
       "    </tr>\n",
       "  </thead>\n",
       "  <tbody>\n",
       "    <tr>\n",
       "      <th>0</th>\n",
       "      <td>Team Liquid</td>\n",
       "      <td>2163</td>\n",
       "    </tr>\n",
       "    <tr>\n",
       "      <th>1</th>\n",
       "      <td>Team Secret</td>\n",
       "      <td>1838315</td>\n",
       "    </tr>\n",
       "    <tr>\n",
       "      <th>2</th>\n",
       "      <td>PSG.LGD</td>\n",
       "      <td>15</td>\n",
       "    </tr>\n",
       "    <tr>\n",
       "      <th>3</th>\n",
       "      <td>Vici Gaming</td>\n",
       "      <td>726228</td>\n",
       "    </tr>\n",
       "    <tr>\n",
       "      <th>4</th>\n",
       "      <td>Virtus.pro</td>\n",
       "      <td>1883502</td>\n",
       "    </tr>\n",
       "    <tr>\n",
       "      <th>5</th>\n",
       "      <td>Fnatic</td>\n",
       "      <td>350190</td>\n",
       "    </tr>\n",
       "    <tr>\n",
       "      <th>6</th>\n",
       "      <td>OG</td>\n",
       "      <td>2586976</td>\n",
       "    </tr>\n",
       "    <tr>\n",
       "      <th>7</th>\n",
       "      <td>Evil Geniuses</td>\n",
       "      <td>39</td>\n",
       "    </tr>\n",
       "    <tr>\n",
       "      <th>8</th>\n",
       "      <td>TNC Predator</td>\n",
       "      <td>2108395</td>\n",
       "    </tr>\n",
       "    <tr>\n",
       "      <th>9</th>\n",
       "      <td>Alliance</td>\n",
       "      <td>111474</td>\n",
       "    </tr>\n",
       "    <tr>\n",
       "      <th>10</th>\n",
       "      <td>Team Aster</td>\n",
       "      <td>6209166</td>\n",
       "    </tr>\n",
       "    <tr>\n",
       "      <th>11</th>\n",
       "      <td>EHOME</td>\n",
       "      <td>4</td>\n",
       "    </tr>\n",
       "    <tr>\n",
       "      <th>12</th>\n",
       "      <td>Forward Gaming</td>\n",
       "      <td>6214538</td>\n",
       "    </tr>\n",
       "    <tr>\n",
       "      <th>13</th>\n",
       "      <td>KEEN GAMING</td>\n",
       "      <td>2626685</td>\n",
       "    </tr>\n",
       "    <tr>\n",
       "      <th>14</th>\n",
       "      <td>Newbee</td>\n",
       "      <td>1375614</td>\n",
       "    </tr>\n",
       "    <tr>\n",
       "      <th>15</th>\n",
       "      <td>Natus Vincere</td>\n",
       "      <td>36</td>\n",
       "    </tr>\n",
       "    <tr>\n",
       "      <th>16</th>\n",
       "      <td>Ninjas in Pyjamas</td>\n",
       "      <td>6214973</td>\n",
       "    </tr>\n",
       "    <tr>\n",
       "      <th>17</th>\n",
       "      <td>Team. Spirit</td>\n",
       "      <td>2621843</td>\n",
       "    </tr>\n",
       "    <tr>\n",
       "      <th>18</th>\n",
       "      <td>NaN</td>\n",
       "      <td>2635099</td>\n",
       "    </tr>\n",
       "    <tr>\n",
       "      <th>19</th>\n",
       "      <td>paiN Gaming</td>\n",
       "      <td>67</td>\n",
       "    </tr>\n",
       "    <tr>\n",
       "      <th>20</th>\n",
       "      <td>Mineski</td>\n",
       "      <td>543897</td>\n",
       "    </tr>\n",
       "  </tbody>\n",
       "</table>\n",
       "</div>"
      ],
      "text/plain": [
       "                 team       ID\n",
       "0         Team Liquid     2163\n",
       "1         Team Secret  1838315\n",
       "2             PSG.LGD       15\n",
       "3         Vici Gaming   726228\n",
       "4          Virtus.pro  1883502\n",
       "5              Fnatic   350190\n",
       "6                  OG  2586976\n",
       "7       Evil Geniuses       39\n",
       "8        TNC Predator  2108395\n",
       "9            Alliance   111474\n",
       "10         Team Aster  6209166\n",
       "11              EHOME        4\n",
       "12     Forward Gaming  6214538\n",
       "13        KEEN GAMING  2626685\n",
       "14             Newbee  1375614\n",
       "15      Natus Vincere       36\n",
       "16  Ninjas in Pyjamas  6214973\n",
       "17       Team. Spirit  2621843\n",
       "18                NaN  2635099\n",
       "19        paiN Gaming       67\n",
       "20            Mineski   543897"
      ]
     },
     "execution_count": 3,
     "metadata": {},
     "output_type": "execute_result"
    }
   ],
   "source": [
    "df"
   ]
  },
  {
   "cell_type": "code",
   "execution_count": 4,
   "metadata": {},
   "outputs": [],
   "source": [
    "for row in df.ID:\n",
    "    r = requests.get('https://api.opendota.com/api/teams/'+str(row)+'/matches')\n",
    "    team = r.json()\n",
    "    with open('matches/master/team_'+ str(row) + '.json', 'w') as outfile:\n",
    "        json.dump(team, outfile)\n",
    "    "
   ]
  },
  {
   "cell_type": "code",
   "execution_count": null,
   "metadata": {},
   "outputs": [],
   "source": []
  }
 ],
 "metadata": {
  "kernelspec": {
   "display_name": "Python 3",
   "language": "python",
   "name": "python3"
  },
  "language_info": {
   "codemirror_mode": {
    "name": "ipython",
    "version": 3
   },
   "file_extension": ".py",
   "mimetype": "text/x-python",
   "name": "python",
   "nbconvert_exporter": "python",
   "pygments_lexer": "ipython3",
   "version": "3.6.5"
  }
 },
 "nbformat": 4,
 "nbformat_minor": 2
}

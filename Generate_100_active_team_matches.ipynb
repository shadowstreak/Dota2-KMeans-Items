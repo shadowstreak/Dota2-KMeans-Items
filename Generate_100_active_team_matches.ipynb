{
 "cells": [
  {
   "cell_type": "code",
   "execution_count": 13,
   "metadata": {},
   "outputs": [
    {
     "data": {
      "text/plain": [
       "'\\nCode written by Allen Lauer\\nGoal of this is to pull team matches from the OpenDota database.\\nUsing the pulling_data_team_matches I can now get individual matches that are not duplicates.\\n\\nhttps://api.opendota.com/api/teams\\n\\nthen I am now querying each match ID I gathered before and getting their matches.\\n'"
      ]
     },
     "execution_count": 13,
     "metadata": {},
     "output_type": "execute_result"
    }
   ],
   "source": [
    "'''\n",
    "Code written by Allen Lauer\n",
    "Goal of this is to pull team matches from the OpenDota database.\n",
    "Using the pulling_data_team_matches I can now get individual matches that are not duplicates.\n",
    "\n",
    "https://api.opendota.com/api/teams\n",
    "\n",
    "then I am now querying each match ID I gathered before and getting their matches.\n",
    "'''"
   ]
  },
  {
   "cell_type": "code",
   "execution_count": 14,
   "metadata": {},
   "outputs": [
    {
     "data": {
      "text/plain": [
       "(21, 2)"
      ]
     },
     "execution_count": 14,
     "metadata": {},
     "output_type": "execute_result"
    }
   ],
   "source": [
    "import pandas as pd\n",
    "import requests\n",
    "import json\n",
    "df = pd.read_csv('active_teams.csv')\n",
    "df.shape"
   ]
  },
  {
   "cell_type": "code",
   "execution_count": 15,
   "metadata": {},
   "outputs": [
    {
     "data": {
      "text/html": [
       "<div>\n",
       "<style scoped>\n",
       "    .dataframe tbody tr th:only-of-type {\n",
       "        vertical-align: middle;\n",
       "    }\n",
       "\n",
       "    .dataframe tbody tr th {\n",
       "        vertical-align: top;\n",
       "    }\n",
       "\n",
       "    .dataframe thead th {\n",
       "        text-align: right;\n",
       "    }\n",
       "</style>\n",
       "<table border=\"1\" class=\"dataframe\">\n",
       "  <thead>\n",
       "    <tr style=\"text-align: right;\">\n",
       "      <th></th>\n",
       "      <th>team</th>\n",
       "      <th>ID</th>\n",
       "    </tr>\n",
       "  </thead>\n",
       "  <tbody>\n",
       "    <tr>\n",
       "      <th>0</th>\n",
       "      <td>Team Liquid</td>\n",
       "      <td>2163</td>\n",
       "    </tr>\n",
       "    <tr>\n",
       "      <th>1</th>\n",
       "      <td>Team Secret</td>\n",
       "      <td>1838315</td>\n",
       "    </tr>\n",
       "    <tr>\n",
       "      <th>2</th>\n",
       "      <td>PSG.LGD</td>\n",
       "      <td>15</td>\n",
       "    </tr>\n",
       "    <tr>\n",
       "      <th>3</th>\n",
       "      <td>Vici Gaming</td>\n",
       "      <td>726228</td>\n",
       "    </tr>\n",
       "    <tr>\n",
       "      <th>4</th>\n",
       "      <td>Virtus.pro</td>\n",
       "      <td>1883502</td>\n",
       "    </tr>\n",
       "    <tr>\n",
       "      <th>5</th>\n",
       "      <td>Fnatic</td>\n",
       "      <td>350190</td>\n",
       "    </tr>\n",
       "    <tr>\n",
       "      <th>6</th>\n",
       "      <td>OG</td>\n",
       "      <td>2586976</td>\n",
       "    </tr>\n",
       "    <tr>\n",
       "      <th>7</th>\n",
       "      <td>Evil Geniuses</td>\n",
       "      <td>39</td>\n",
       "    </tr>\n",
       "    <tr>\n",
       "      <th>8</th>\n",
       "      <td>TNC Predator</td>\n",
       "      <td>2108395</td>\n",
       "    </tr>\n",
       "    <tr>\n",
       "      <th>9</th>\n",
       "      <td>Alliance</td>\n",
       "      <td>111474</td>\n",
       "    </tr>\n",
       "    <tr>\n",
       "      <th>10</th>\n",
       "      <td>Team Aster</td>\n",
       "      <td>6209166</td>\n",
       "    </tr>\n",
       "    <tr>\n",
       "      <th>11</th>\n",
       "      <td>EHOME</td>\n",
       "      <td>4</td>\n",
       "    </tr>\n",
       "    <tr>\n",
       "      <th>12</th>\n",
       "      <td>Forward Gaming</td>\n",
       "      <td>6214538</td>\n",
       "    </tr>\n",
       "    <tr>\n",
       "      <th>13</th>\n",
       "      <td>KEEN GAMING</td>\n",
       "      <td>2626685</td>\n",
       "    </tr>\n",
       "    <tr>\n",
       "      <th>14</th>\n",
       "      <td>Newbee</td>\n",
       "      <td>1375614</td>\n",
       "    </tr>\n",
       "    <tr>\n",
       "      <th>15</th>\n",
       "      <td>Natus Vincere</td>\n",
       "      <td>36</td>\n",
       "    </tr>\n",
       "    <tr>\n",
       "      <th>16</th>\n",
       "      <td>Ninjas in Pyjamas</td>\n",
       "      <td>6214973</td>\n",
       "    </tr>\n",
       "    <tr>\n",
       "      <th>17</th>\n",
       "      <td>Team. Spirit</td>\n",
       "      <td>2621843</td>\n",
       "    </tr>\n",
       "    <tr>\n",
       "      <th>18</th>\n",
       "      <td>NaN</td>\n",
       "      <td>2635099</td>\n",
       "    </tr>\n",
       "    <tr>\n",
       "      <th>19</th>\n",
       "      <td>paiN Gaming</td>\n",
       "      <td>67</td>\n",
       "    </tr>\n",
       "    <tr>\n",
       "      <th>20</th>\n",
       "      <td>Mineski</td>\n",
       "      <td>543897</td>\n",
       "    </tr>\n",
       "  </tbody>\n",
       "</table>\n",
       "</div>"
      ],
      "text/plain": [
       "                 team       ID\n",
       "0         Team Liquid     2163\n",
       "1         Team Secret  1838315\n",
       "2             PSG.LGD       15\n",
       "3         Vici Gaming   726228\n",
       "4          Virtus.pro  1883502\n",
       "5              Fnatic   350190\n",
       "6                  OG  2586976\n",
       "7       Evil Geniuses       39\n",
       "8        TNC Predator  2108395\n",
       "9            Alliance   111474\n",
       "10         Team Aster  6209166\n",
       "11              EHOME        4\n",
       "12     Forward Gaming  6214538\n",
       "13        KEEN GAMING  2626685\n",
       "14             Newbee  1375614\n",
       "15      Natus Vincere       36\n",
       "16  Ninjas in Pyjamas  6214973\n",
       "17       Team. Spirit  2621843\n",
       "18                NaN  2635099\n",
       "19        paiN Gaming       67\n",
       "20            Mineski   543897"
      ]
     },
     "execution_count": 15,
     "metadata": {},
     "output_type": "execute_result"
    }
   ],
   "source": [
    "df"
   ]
  },
  {
   "cell_type": "code",
   "execution_count": 16,
   "metadata": {},
   "outputs": [
    {
     "name": "stdout",
     "output_type": "stream",
     "text": [
      "     team_id     matches\n",
      "0       2163  4263024920\n",
      "1       2163  4262918767\n",
      "2       2163  4261276736\n",
      "3       2163  4261111650\n",
      "4       2163  4259252268\n",
      "5       2163  4259132764\n",
      "6       2163  4258790488\n",
      "7       2163  4258697655\n",
      "8       2163  4247541248\n",
      "9       2163  4247453182\n",
      "10      2163  4247393718\n",
      "11      2163  4247243752\n",
      "12      2163  4247178238\n",
      "13      2163  4247094184\n",
      "14      2163  4245889049\n",
      "15      2163  4245820100\n",
      "16      2163  4244353752\n",
      "17      2163  4244284417\n",
      "18      2163  4244077973\n",
      "19      2163  4243965501\n",
      "20      2163  4138897436\n",
      "21      2163  4138834856\n",
      "22      2163  4138748557\n",
      "23      2163  4138654389\n",
      "24      2163  4138539349\n",
      "25      2163  4137154017\n",
      "26      2163  4137068752\n",
      "27      2163  4127768032\n",
      "28      2163  4127637673\n",
      "29      2163  4127531266\n",
      "...      ...         ...\n",
      "1770  543897  3934197014\n",
      "1771  543897  3934135077\n",
      "1772  543897  3934056852\n",
      "1773  543897  3931151617\n",
      "1774  543897  3930995463\n",
      "1775  543897  3930871882\n",
      "1776  543897  3930752760\n",
      "1777  543897  3930642875\n",
      "1778  543897  3930216789\n",
      "1779  543897  3930125995\n",
      "1780  543897  3930017604\n",
      "1781  543897  3913231529\n",
      "1782  543897  3913069866\n",
      "1783  543897  3911695865\n",
      "1784  543897  3911582365\n",
      "1785  543897  3910028416\n",
      "1786  543897  3909951436\n",
      "1787  543897  3909857306\n",
      "1788  543897  3909169351\n",
      "1789  543897  3899726029\n",
      "1790  543897  3899640601\n",
      "1791  543897  3894049655\n",
      "1792  543897  3893895473\n",
      "1793  543897  3893763347\n",
      "1794  543897  3893314987\n",
      "1795  543897  3893222060\n",
      "1796  543897  3891925312\n",
      "1797  543897  3891767458\n",
      "1798  543897  3891117294\n",
      "1799  543897  3891024973\n",
      "\n",
      "[1800 rows x 2 columns]\n"
     ]
    }
   ],
   "source": [
    "columns = ['team_id','matches']\n",
    "match_id = pd.DataFrame(columns=columns)\n",
    "count = 0\n",
    "\n",
    "for row in df.ID:\n",
    "    with open('matches/master/team_' + str(row) + '.json') as json_data:\n",
    "        d = json.load(json_data)\n",
    "        for record in d:\n",
    "            if count < 100:\n",
    "                match_id.loc[len(match_id)] = [row,record['match_id']]\n",
    "                count = count + 1\n",
    "            else:\n",
    "                count = 0\n",
    "                break\n",
    "print (match_id)\n"
   ]
  },
  {
   "cell_type": "code",
   "execution_count": 18,
   "metadata": {},
   "outputs": [
    {
     "data": {
      "text/plain": [
       "(1376, 2)"
      ]
     },
     "execution_count": 18,
     "metadata": {},
     "output_type": "execute_result"
    }
   ],
   "source": [
    "match_id = match_id.drop_duplicates(subset='matches')\n",
    "match_id.shape"
   ]
  },
  {
   "cell_type": "code",
   "execution_count": 19,
   "metadata": {},
   "outputs": [],
   "source": [
    "match_id.to_csv('active_matches.csv', encoding='utf-8', index=False)"
   ]
  },
  {
   "cell_type": "code",
   "execution_count": null,
   "metadata": {},
   "outputs": [],
   "source": []
  }
 ],
 "metadata": {
  "kernelspec": {
   "display_name": "Python 3",
   "language": "python",
   "name": "python3"
  },
  "language_info": {
   "codemirror_mode": {
    "name": "ipython",
    "version": 3
   },
   "file_extension": ".py",
   "mimetype": "text/x-python",
   "name": "python",
   "nbconvert_exporter": "python",
   "pygments_lexer": "ipython3",
   "version": "3.6.5"
  }
 },
 "nbformat": 4,
 "nbformat_minor": 2
}
